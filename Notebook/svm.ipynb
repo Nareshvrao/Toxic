{
 "cells": [
  {
   "cell_type": "code",
   "execution_count": 1,
   "metadata": {},
   "outputs": [],
   "source": [
    "import pandas as pd\n",
    "import numpy as np\n",
    "import re, string, time\n",
    "\n",
    "from sklearn.linear_model import LogisticRegression\n",
    "from sklearn.feature_extraction.text import CountVectorizer, TfidfVectorizer\n",
    "from scipy.sparse import hstack\n",
    "from scipy.special import logit, expit\n",
    "from sklearn.model_selection import StratifiedKFold\n",
    "from sklearn.metrics import roc_auc_score"
   ]
  },
  {
   "cell_type": "code",
   "execution_count": 2,
   "metadata": {},
   "outputs": [],
   "source": [
    "def tokenize(s): return re_tok.sub(r' \\\\1 ', s).split()\n",
    "\n",
    "def pr(y_i, y, x):\n",
    "    p = x[y==y_i].sum(0)\n",
    "    return (p+1) / ((y==y_i).sum()+1)\n",
    "\n",
    "def get_mdl(y,x, c0 = 4):\n",
    "    y = y.values\n",
    "    r = np.log(pr(1,y,x) / pr(0,y,x))\n",
    "    m = LogisticRegression(dual=True, solver='sag')\n",
    "    x_nb = x.multiply(r)\n",
    "    return m.fit(x_nb, y), r\n",
    "\n",
    "def multi_roc_auc_score(y_true, y_pred):\n",
    "    assert y_true.shape == y_pred.shape\n",
    "    columns = y_true.shape[1]\n",
    "    column_losses = []\n",
    "    for i in range(0, columns):\n",
    "        column_losses.append(roc_auc_score(y_true[:, i], y_pred[:, i]))\n",
    "    return np.array(column_losses).mean()"
   ]
  },
  {
   "cell_type": "code",
   "execution_count": 3,
   "metadata": {},
   "outputs": [],
   "source": [
    "model_type = 'lrchar'\n",
    "todate = time.strftime(\"%d%m\")"
   ]
  },
  {
   "cell_type": "code",
   "execution_count": null,
   "metadata": {},
   "outputs": [],
   "source": [
    "train = pd.read_csv('/public/toxic_comments/train.csv')\n",
    "test = pd.read_csv('/public/toxic_comments/test.csv')\n",
    "subm = pd.read_csv('/public/toxic_comments/sample_submission.csv')\n",
    "\n",
    "id_train = train['id'].copy()\n",
    "id_test = test['id'].copy()\n",
    "\n",
    "label_cols = ['toxic', 'severe_toxic', 'obscene', 'threat', 'insult', 'identity_hate']\n",
    "train['none'] = 1-train[label_cols].max(axis=1)\n",
    "\n",
    "COMMENT = 'comment_text'\n",
    "# train[COMMENT].fillna(\"_na_\", inplace=True)\n",
    "# test[COMMENT].fillna(\"_na_\", inplace=True)"
   ]
  },
  {
   "cell_type": "code",
   "execution_count": null,
   "metadata": {},
   "outputs": [],
   "source": [
    "re_tok = re.compile(f'([{string.punctuation}“”¨«»®´·º½¾¿¡§£₤‘’])')\n",
    "n = train.shape[0]\n",
    "\n",
    "print (\"Word Vectorizer.....\")\n",
    "word_vectorizer = TfidfVectorizer(\n",
    "    tokenizer=tokenize,\n",
    "    sublinear_tf=True,\n",
    "    strip_accents='unicode',\n",
    "    analyzer='word', \n",
    "    token_pattern=r'\\w{1,}',\n",
    "    ngram_range=(1, 1), \n",
    "    max_features=50000)\n",
    "\n",
    "print (\"Word Done.....\")\n",
    "all1 = pd.concat([train[COMMENT], test[COMMENT]])\n",
    "word_vectorizer.fit(all1)\n",
    "xtrain1 = word_vectorizer.transform(train[COMMENT])\n",
    "xtest1 = word_vectorizer.transform(test[COMMENT])\n",
    "\n",
    "print (\"Char Vectorizer.....\")\n",
    "char_vectorizer = TfidfVectorizer(\n",
    "    sublinear_tf=True,\n",
    "    strip_accents='unicode',\n",
    "    analyzer='char',\n",
    "    ngram_range=(2, 6),\n",
    "    max_df=0.9,\n",
    "    max_features=80000)\n",
    "\n",
    "print (\"Char Done.....\")\n",
    "all1 = pd.concat([train[COMMENT], test[COMMENT]])\n",
    "char_vectorizer.fit(all1)\n",
    "xtrain2 = char_vectorizer.transform(train[COMMENT])\n",
    "xtest2 = char_vectorizer.transform(test[COMMENT])\n",
    "\n",
    "print (\"Completed.....\")"
   ]
  },
  {
   "cell_type": "code",
   "execution_count": null,
   "metadata": {},
   "outputs": [],
   "source": [
    "nfolds = 5\n",
    "xseed = 29\n",
    "cval = 4\n",
    "\n",
    "xtrain = hstack([xtrain1, xtrain2], format='csr')\n",
    "xtest = hstack([xtest1,xtest2], format='csr')\n",
    "ytrain = np.array(train[label_cols].copy())\n",
    "\n",
    "skf = StratifiedKFold(n_splits= nfolds, random_state= xseed)\n",
    "\n",
    "predval = np.zeros((xtrain.shape[0], len(label_cols)))\n",
    "predfull = np.zeros((xtest.shape[0], len(label_cols)))\n",
    "scoremat = np.zeros((nfolds,len(label_cols) ))\n",
    "score_vec = np.zeros((len(label_cols),1))"
   ]
  },
  {
   "cell_type": "code",
   "execution_count": null,
   "metadata": {},
   "outputs": [],
   "source": [
    "for (lab_ind, lab) in enumerate(label_cols):\n",
    "    y = train[lab].copy()\n",
    "    print('label:' + str(lab_ind))\n",
    "    \n",
    "    for (f, (train_index, test_index)) in enumerate(skf.split(xtrain, y)):\n",
    "        \n",
    "        print (\"Fold: \"+str(f))\n",
    "        x0, x1 = xtrain[train_index], xtrain[test_index]\n",
    "        y0, y1 = y[train_index], y[test_index]\n",
    "        \n",
    "        m,r = get_mdl(y0, x0, c0 = cval)\n",
    "        predval[test_index, lab_ind] = m.predict_proba(x1.multiply(r))[:,1]\n",
    "        scoremat[f, lab_ind] = roc_auc_score(y1,predval[test_index,lab_ind])\n",
    "        \n",
    "        m,r = get_mdl(y, xtrain, c0 = cval)\n",
    "        predfull[:,lab_ind] += m.predict_proba(xtest.multiply(r))[:,1]\n",
    "        print('fit:'+ str(lab) + ' fold:' + str(f) + ' score:%.6f' %(scoremat[f, lab_ind]))\n",
    "        \n",
    "predfull /= nfolds "
   ]
  },
  {
   "cell_type": "code",
   "execution_count": null,
   "metadata": {},
   "outputs": [],
   "source": [
    "score_vec = np.zeros((len(label_cols),1))\n",
    "\n",
    "for ii in range(len(label_cols)):\n",
    "    score_vec[ii] = roc_auc_score(ymat[:,ii], predval[:,ii])\n",
    "    print(score_vec.mean())\n",
    "    print(multi_roc_auc_score(ymat, predval))"
   ]
  },
  {
   "cell_type": "code",
   "execution_count": null,
   "metadata": {},
   "outputs": [],
   "source": [
    "prval = pd.DataFrame(predval)\n",
    "prval.columns = label_cols\n",
    "prval['id'] = id_train\n",
    "# prval.to_csv('prval_'+model_type+'x'+str(cval)+'f'+str(nfolds)+'_'+todate+'.csv', index= False)\n",
    "\n",
    "prfull = pd.DataFrame(predfull)\n",
    "prfull.columns = label_cols\n",
    "prfull['id'] = id_test\n",
    "prfull.to_csv('prfull_'+model_type+'x'+str(cval)+'f'+str(nfolds)+'_'+todate+'.csv', index= False)\n",
    "submid = pd.DataFrame({'id': subm[\"id\"]})\n",
    "submission = pd.concat([submid, pd.DataFrame(prfull, columns = label_cols)], axis=1)\n",
    "submission.to_csv('test_sub_'+model_type+'x'+str(cval)+'f'+str(nfolds)+'_'+todate+'.csv', index= False)\n",
    "submission.head()"
   ]
  },
  {
   "cell_type": "code",
   "execution_count": null,
   "metadata": {},
   "outputs": [],
   "source": [
    "prfull.head()"
   ]
  }
 ],
 "metadata": {
  "kernelspec": {
   "display_name": "Python 3",
   "language": "python",
   "name": "python3"
  },
  "language_info": {
   "codemirror_mode": {
    "name": "ipython",
    "version": 3
   },
   "file_extension": ".py",
   "mimetype": "text/x-python",
   "name": "python",
   "nbconvert_exporter": "python",
   "pygments_lexer": "ipython3",
   "version": "3.6.3"
  }
 },
 "nbformat": 4,
 "nbformat_minor": 2
}
